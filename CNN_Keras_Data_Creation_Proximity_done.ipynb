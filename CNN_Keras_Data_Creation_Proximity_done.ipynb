{
 "cells": [
  {
   "cell_type": "code",
   "execution_count": 1,
   "metadata": {},
   "outputs": [],
   "source": [
    "import numpy as np\n",
    "import pickle\n",
    "import os\n",
    "from scipy.signal import savgol_filter\n",
    "os.chdir(r'/home/jupyter/Combined Trajectory_Label_Geolife')"
   ]
  },
  {
   "cell_type": "code",
   "execution_count": 2,
   "metadata": {},
   "outputs": [],
   "source": [
    "filename = '../Combined Trajectory_Label_Geolife/Revised_InstanceCreation+NoJerkOutlier+Smoothing+GIS+WHOLE_COUNTRY.pickle'\n",
    "# Each of the following variables contain multiple lists, where each list belongs to a user\n",
    "with open(filename, 'rb') as f:\n",
    "    Total_RelativeDistance, Total_Speed, Total_Acceleration, Total_Jerk, Total_BearingRate, Total_Label,\\\n",
    "    Total_InstanceNumber, Total_Instance_InSequence, Total_Delta_Time, Total_Velocity_Change,Total_BusLine,Total_Railway,Total_Traffic = pickle.load(f, encoding='latin1')"
   ]
  },
  {
   "cell_type": "code",
   "execution_count": 3,
   "metadata": {},
   "outputs": [],
   "source": [
    "# Create the data in the Keras form\n",
    "# Threshold: Is the max of number of GPS point in an instance\n",
    "#Padding instances to 200 threshold \n",
    "Threshold = 200\n",
    "Zero_Instance = [i for i, item in enumerate(Total_Instance_InSequence) if item == 0]\n",
    "Number_of_Instance = len(Total_Instance_InSequence) - len(Zero_Instance)\n",
    "TotalInput = np.zeros((Number_of_Instance, 1, Threshold, 8), dtype=float)\n",
    "FinalLabel = np.zeros((Number_of_Instance, 1), dtype=int)\n",
    "\n",
    "counter = 0\n",
    "for k in range(len(Total_InstanceNumber)):\n",
    "    # Create Keras shape with 4 channels for each user\n",
    "    #  There are 4 channels(in order: RelativeDistance, Speed, Acceleration, BearingRate)\n",
    "    RD = Total_RelativeDistance[k]\n",
    "    SP = Total_Speed[k]\n",
    "    AC = Total_Acceleration[k]\n",
    "    J = Total_Jerk[k]\n",
    "    BR = Total_BearingRate[k]\n",
    "    LA = Total_Label[k]\n",
    "    BS=Total_BusLine[k]\n",
    "    RL=Total_Railway[k]\n",
    "    TR=Total_Traffic[k]\n",
    "\n",
    "    \n",
    "    # IN: the instances and number of GPS points in each instance for each user k\n",
    "    IN = Total_InstanceNumber[k]\n",
    "\n",
    "    for i in range(len(IN)):\n",
    "        end = IN[i]\n",
    "        if end == 0 or sum(RD[i]) == 0:\n",
    "            continue\n",
    "        #TotalInput[counter, 0, 0:end, 0] = SP[i]\n",
    "        #TotalInput[counter, 0, 0:end, 1] = AC[i]\n",
    "        #TotalInput[counter, 0, 0:end, 2] = J[i]\n",
    "        #TotalInput[counter, 0, 0:end, 3] = BR[i]\n",
    "        TotalInput[counter, 0, 0:end, 0] = BS[i]           \n",
    "        TotalInput[counter, 0, 0:end, 1] = RL[i]\n",
    "        TotalInput[counter, 0, 0:end, 2] = TR[i]\n",
    "        TotalInput[counter, 0, 0:end, 3] = RD[i]\n",
    "        \n",
    "        FinalLabel[counter, 0] = LA[i]\n",
    "        counter += 1\n",
    "\n",
    "TotalInput = TotalInput[:counter, :, :, :]\n",
    "FinalLabel = FinalLabel[:counter, 0]"
   ]
  },
  {
   "cell_type": "code",
   "execution_count": 4,
   "metadata": {},
   "outputs": [],
   "source": [
    "with open('Revised_KerasData_Smoothing_GIS_new_4.pickle', 'wb') as f:  # Python 3: open(..., 'wb')\n",
    "    pickle.dump([TotalInput, FinalLabel], f)"
   ]
  }
 ],
 "metadata": {
  "environment": {
   "name": "common-cpu.m69",
   "type": "gcloud",
   "uri": "gcr.io/deeplearning-platform-release/base-cpu:m69"
  },
  "kernelspec": {
   "display_name": "Python 3",
   "language": "python",
   "name": "python3"
  },
  "language_info": {
   "codemirror_mode": {
    "name": "ipython",
    "version": 3
   },
   "file_extension": ".py",
   "mimetype": "text/x-python",
   "name": "python",
   "nbconvert_exporter": "python",
   "pygments_lexer": "ipython3",
   "version": "3.8.5"
  }
 },
 "nbformat": 4,
 "nbformat_minor": 5
}
